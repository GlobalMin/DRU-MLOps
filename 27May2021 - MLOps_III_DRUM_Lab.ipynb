{
  "nbformat": 4,
  "nbformat_minor": 0,
  "metadata": {
    "accelerator": "GPU",
    "colab": {
      "name": "MLOps III - DRUM",
      "provenance": [],
      "collapsed_sections": [],
      "toc_visible": true
    },
    "kernelspec": {
      "display_name": "Python 3",
      "language": "python",
      "name": "python3"
    },
    "language_info": {
      "codemirror_mode": {
        "name": "ipython",
        "version": 3
      },
      "file_extension": ".py",
      "mimetype": "text/x-python",
      "name": "python",
      "nbconvert_exporter": "python",
      "pygments_lexer": "ipython3",
      "version": "3.8.3"
    }
  },
  "cells": [
    {
      "cell_type": "markdown",
      "metadata": {
        "id": "ePVVRJ_7FkEg"
      },
      "source": [
        "<a href=\"https://colab.research.google.com/github/datarobot-community/DRU-MLOps/blob/master/27May2021 - MLOps_III_DRUM_Lab.ipynb\" target=\"_parent\"><img src=\"https://colab.research.google.com/assets/colab-badge.svg\" alt=\"Open In Colab\"/></a>"
      ]
    },
    {
      "cell_type": "markdown",
      "metadata": {
        "id": "VLxOyJ2xMrlL"
      },
      "source": [
        "# MLOps III - DRUM Laboratory"
      ]
    },
    {
      "cell_type": "markdown",
      "metadata": {
        "id": "_OUbruxUMrlM"
      },
      "source": [
        " In this notebook we will\n",
        "\n",
        "* Build a simple regression model using Scikit-Learn\n",
        "* Use DRUM to test & validate the model\n",
        "* Use DRUM to score data in batch mode\n"
      ]
    },
    {
      "cell_type": "markdown",
      "metadata": {
        "id": "tFS-eBOmsi-F"
      },
      "source": [
        "## Use case to be addressed:\n",
        "\n",
        "We will build a regression model to predict median value of owner-occupied homes prices in the Boston area."
      ]
    },
    {
      "cell_type": "markdown",
      "metadata": {
        "id": "VeC6ZQmYnIYl"
      },
      "source": [
        "Let's begin by uploading a few resources we will need:\n",
        "\n",
        "1. Training set: **boston_housing.csv**\n",
        "2. Scoring set: **boston_housing_inference.csv**\n",
        "3. Requirements file: **colab_requirements.txt**\n",
        "4. File with hooks used by the model: **custom.py**"
      ]
    },
    {
      "cell_type": "code",
      "metadata": {
        "id": "-IDgpv8NMs7r"
      },
      "source": [
        "from google.colab import files\n",
        "uploaded = files.upload()"
      ],
      "execution_count": null,
      "outputs": []
    },
    {
      "cell_type": "code",
      "metadata": {
        "id": "4sN_vquZolv_"
      },
      "source": [
        "!ls"
      ],
      "execution_count": null,
      "outputs": []
    },
    {
      "cell_type": "markdown",
      "metadata": {
        "id": "1sdCt94rqk17"
      },
      "source": [
        "Let's install the Python modules we need using the requirements file:"
      ]
    },
    {
      "cell_type": "code",
      "metadata": {
        "id": "x86AAdVeMjl6"
      },
      "source": [
        "!pip install -r colab_requirements.txt -q"
      ],
      "execution_count": null,
      "outputs": []
    },
    {
      "cell_type": "markdown",
      "metadata": {
        "id": "AyiVy3Zv3eEP"
      },
      "source": [
        "# 1.- Model Training\n",
        "\n",
        "We will now build a very simple Scikit-Learn Regression model using the boston_housing prices dataset."
      ]
    },
    {
      "cell_type": "code",
      "metadata": {
        "id": "pdT60Pcp38kl"
      },
      "source": [
        "import pandas as pd\n",
        "from sklearn.ensemble import RandomForestRegressor\n",
        "import pickle\n",
        "import datetime\n",
        "\n",
        "## load data\n",
        "\n",
        "df = pd.read_csv('boston_housing.csv')\n",
        "df.head()"
      ],
      "execution_count": null,
      "outputs": []
    },
    {
      "cell_type": "code",
      "metadata": {
        "id": "vAkNyQLWMrlN"
      },
      "source": [
        "## set features and target\n",
        "\n",
        "X = df.drop('MEDV', axis=1)\n",
        "y = df['MEDV']\n",
        "\n",
        "## train the model\n",
        "rf = RandomForestRegressor(n_estimators = 20)\n",
        "rf.fit(X,y)\n",
        "\n",
        "## serialize the model\n",
        "\n",
        "with open('rf.pkl', 'wb') as pkl:\n",
        "    pickle.dump(rf, pkl)\n",
        "\n",
        "print(\"Done!\")    "
      ],
      "execution_count": null,
      "outputs": []
    },
    {
      "cell_type": "markdown",
      "metadata": {
        "id": "DKi7ywP8L192"
      },
      "source": [
        "# 2.- Model Testing\n",
        "\n",
        "We will now use DRUM to test how the model performs by computing latency times and memory usage for several different test case sizes. A report is generated after this process is completed.\n",
        "\n"
      ]
    },
    {
      "cell_type": "code",
      "metadata": {
        "id": "FM60vZNHL1cu"
      },
      "source": [
        "%%sh \n",
        "drum perf-test "
      ],
      "execution_count": null,
      "outputs": []
    },
    {
      "cell_type": "markdown",
      "metadata": {
        "id": "79e-llL0L7Aj"
      },
      "source": [
        "# 3.- Model Validation: Handling of Missing Values\n",
        "\n",
        "We will now validate the model to detect and address issues before deployment. It’s highly encouraged that you run these tests, which are the same ones that DataRobot performs automatically before deploying models.\n",
        "\n",
        "Especifically, DRUM will test null values imputation by setting each feature in the dataset to \"missing\" and then feeding the features to the model. We will send the results to **validation.log**"
      ]
    },
    {
      "cell_type": "code",
      "metadata": {
        "id": "ms1EF-eeL1MT"
      },
      "source": [
        "%%sh \n",
        "drum validation "
      ],
      "execution_count": null,
      "outputs": []
    },
    {
      "cell_type": "code",
      "metadata": {
        "id": "I_hENDrAHJkR"
      },
      "source": [
        "! cat validation.log"
      ],
      "execution_count": null,
      "outputs": []
    },
    {
      "cell_type": "markdown",
      "metadata": {
        "id": "t4p0zDG-VWJP"
      },
      "source": [
        "# 4.- Batch Scoring with DRUM\n",
        "<a id=\"setup_complete\"></a>\n",
        "\n",
        "We want to use our model to make predictions; to do this, we'll leverage DRUM and its ability to natively handle our Scikit-Learn model. All we need to do is tell DRUM where the model resides and what data we wish to score.  \n",
        "\n",
        "DRUM provides native support for many frameworks. To use DRUM with model frameworks that are not supported out-of-the box, we'll just need to create some custom hooks so DRUM.  In this example, we'll explain some very simple custom hooks and provide links to more complex examples.  "
      ]
    },
    {
      "cell_type": "code",
      "metadata": {
        "id": "C_OOeqEx6hqH"
      },
      "source": [
        "%%sh\n",
        "drum score "
      ],
      "execution_count": null,
      "outputs": []
    },
    {
      "cell_type": "markdown",
      "metadata": {
        "id": "fNNrCQvix1fm"
      },
      "source": [
        "Let's have a look at the predictions:"
      ]
    },
    {
      "cell_type": "code",
      "metadata": {
        "id": "pLQnWJw_MrlU"
      },
      "source": [
        "pd.read_csv(\"predictions.csv\").head()"
      ],
      "execution_count": null,
      "outputs": []
    }
  ]
}